{
  "cells": [
    {
      "cell_type": "markdown",
      "id": "ce090555",
      "metadata": {
        "id": "ce090555"
      },
      "source": [
        "Индивидуальный проект: **Название проекта**\n",
        "\n",
        "Автор: **ФИО**\n",
        "\n",
        "Проверяющий: **ФИО**\n",
        "\n",
        "Ссылка на датасет:"
      ]
    },
    {
      "cell_type": "markdown",
      "id": "de16fd54",
      "metadata": {
        "id": "de16fd54"
      },
      "source": [
        "### Примерный план (подстроить план под вашу задачу)\n",
        "1. Цель и задачи исследования\n",
        "2. Описание набора данных\n",
        "3. Разведочный анализ данных (англ. exploratory data analysis, EDA) + визуализация\n",
        "4. Генерация и селекция признаков + нормализация\n",
        "5. Исключение аномалий, заполнение пропусков в данных и.т.д.\n",
        "6. Очистка данных от шума\n",
        "7. Выбор метода/алгоритма, модели, архитектуры (для НС)\n",
        "8. Настройка гиперпараметров (для НС), выбор параметров метода/алгоритма\n",
        "9. Выбор метрики оценки качества (RMSE, R^2)\n",
        "10. Генерация наборов для обучения, тестирования и валидации\n",
        "11. Развертывание и работа модели, визуализация результатов\n",
        "12. Выводы"
      ]
    },
    {
      "cell_type": "markdown",
      "id": "51f24c93",
      "metadata": {
        "id": "51f24c93"
      },
      "source": [
        "## 1. Цель и задачи исследования"
      ]
    },
    {
      "cell_type": "markdown",
      "id": "5366ec07",
      "metadata": {
        "id": "5366ec07"
      },
      "source": [
        "\n",
        "**Какую задачу планируете решить — коротко**\n",
        "\n",
        "- Почему такакя задача показалась Вам интересной?"
      ]
    },
    {
      "cell_type": "markdown",
      "id": "57b965b9",
      "metadata": {
        "id": "57b965b9"
      },
      "source": [
        "## 2. Описание набора данных"
      ]
    },
    {
      "cell_type": "markdown",
      "id": "b377565b",
      "metadata": {
        "id": "b377565b"
      },
      "source": [
        "Данные взяты из: \n",
        "\n",
        "[Добавить ссылка на данные, если они открыты](_____)\n"
      ]
    },
    {
      "cell_type": "markdown",
      "id": "05c68209",
      "metadata": {
        "id": "05c68209"
      },
      "source": [
        "### Описание данных"
      ]
    },
    {
      "cell_type": "markdown",
      "id": "5ee1cfc9",
      "metadata": {
        "id": "5ee1cfc9"
      },
      "source": [
        "Датасет представлен в виде каких файлов? Сколько их?\n",
        "Как собирались данные? Для чего — просто коротко о датасете.\n",
        "Описать объем данных.\n",
        "\n",
        "- Выборка включает __  записей и __ признаков (строки и столбцы соответственно).\n",
        "- Целевая переменная **название целевой переменной** — что обозначает\n",
        "\n",
        "- Количественные переменные:\n",
        "    - **название признака#1** — что обозначает этот признак;\n",
        "    - ....\n",
        "    - **название признака#N** — что обозначает этот признак;\n",
        "    \n",
        "- Категориальные переменные:\n",
        "\n",
        "    - **название признака#1** — что обозначает этот признак;\n",
        "    - ....\n",
        "    - **название признака#N** — что обозначает этот признак;\n",
        "\n",
        "Если вы на этом шаге уже не планируете использовать какой-то признак, напишите об этом. "
      ]
    },
    {
      "cell_type": "markdown",
      "source": [
        "##  3. Разведочный анализ данных (англ. exploratory data analysis, EDA) + визуализация\n",
        "\n",
        "[Что такое EDA?](https://en.wikipedia.org/wiki/Exploratory_data_analysis)"
      ],
      "metadata": {
        "id": "A1rXFIN0vQQk"
      },
      "id": "A1rXFIN0vQQk"
    },
    {
      "cell_type": "code",
      "source": [
        "import pandas as pd\n",
        "import seaborn as sns\n",
        "import matplotlib.pyplot as plt\n",
        "pd.set_option('display.max_rows', 10)\n",
        "dataset = pd.read_csv('Stars.csv')\n",
        "dataset = dataset.sort_values(by='Temperature')\n",
        "dataset.loc[(dataset.Temperature >=0), 'Color'] = 1\n",
        "dataset.loc[(dataset.Temperature >3800  ), 'Color'] = 2\n",
        "dataset.loc[(dataset.Temperature >5000 ), 'Color'] = 3\n",
        "dataset.loc[(dataset.Temperature >6000 ), 'Color'] = 4\n",
        "dataset.loc[(dataset.Temperature >7400 ), 'Color'] = 5\n",
        "dataset.loc[(dataset.Temperature >10000 ), 'Color'] = 6\n",
        "dataset.loc[(dataset.Temperature >30000  ), 'Color'] = 7\n",
        "dataset.loc[(dataset.Spectral_Class == 'M'), 'Spectral_Class'] = 0\n",
        "dataset.loc[(dataset.Spectral_Class == 'B'), 'Spectral_Class'] = 1\n",
        "dataset.loc[(dataset.Spectral_Class == 'O'), 'Spectral_Class'] = 2\n",
        "dataset.loc[(dataset.Spectral_Class == 'A'), 'Spectral_Class'] = 3\n",
        "dataset.loc[(dataset.Spectral_Class == 'F'), 'Spectral_Class'] = 4\n",
        "dataset.loc[(dataset.Spectral_Class == 'K'), 'Spectral_Class'] = 5\n",
        "dataset.loc[(dataset.Spectral_Class == 'G'), 'Spectral_Class'] = 5\n",
        "dataset['Color']=dataset.Color.astype('int64')\n",
        "dataset['Spectral_Class']=dataset.Spectral_Class.astype('int64')\n",
        "print(dataset)\n",
        "\n",
        "dataset.plot(x = \"Color\" , y = \"Temperature\" ,kind = 'hist')\n",
        "dataset.boxplot(column = ['Temperature'], by = 'Color')\n",
        "dataset.plot(y = \"Color\" ,kind = 'hist')\n",
        "print(dataset.corr())"
      ],
      "metadata": {
        "colab": {
          "base_uri": "https://localhost:8080/",
          "height": 1000
        },
        "id": "iNpyA3U8H2UP",
        "outputId": "9918ead6-1693-4ed6-96a5-9d9dfeed3e7a"
      },
      "id": "iNpyA3U8H2UP",
      "execution_count": 51,
      "outputs": [
        {
          "output_type": "stream",
          "name": "stdout",
          "text": [
            "     Temperature              L         R    A_M  Color  Spectral_Class  Type\n",
            "4           1939       0.000138     0.103  20.06      1               0     0\n",
            "2           2600       0.000300     0.102  18.70      1               0     0\n",
            "7           2600       0.000400     0.096  17.40      1               0     0\n",
            "78          2621       0.000600     0.098  12.81      1               0     1\n",
            "6           2637       0.000730     0.127  17.22      1               0     0\n",
            "..           ...            ...       ...    ...    ...             ...   ...\n",
            "239        37882  294903.000000  1783.000  -7.80      7               2     5\n",
            "231        38234  272830.000000  1356.000  -9.29      7               2     5\n",
            "235        38940  374830.000000  1356.000  -9.93      7               2     5\n",
            "30         39000  204000.000000    10.600  -4.70      7               2     3\n",
            "101        40000  813000.000000    14.000  -6.23      7               2     4\n",
            "\n",
            "[240 rows x 7 columns]\n"
          ]
        },
        {
          "output_type": "stream",
          "name": "stderr",
          "text": [
            "/usr/local/lib/python3.7/dist-packages/matplotlib/cbook/__init__.py:1376: VisibleDeprecationWarning: Creating an ndarray from ragged nested sequences (which is a list-or-tuple of lists-or-tuples-or ndarrays with different lengths or shapes) is deprecated. If you meant to do this, you must specify 'dtype=object' when creating the ndarray.\n",
            "  X = np.atleast_1d(X.T if isinstance(X, np.ndarray) else np.asarray(X))\n"
          ]
        },
        {
          "output_type": "stream",
          "name": "stdout",
          "text": [
            "                Temperature         L         R       A_M     Color  \\\n",
            "Temperature        1.000000  0.393404  0.064216 -0.420261  0.844013   \n",
            "L                  0.393404  1.000000  0.526516 -0.692619  0.283564   \n",
            "R                  0.064216  0.526516  1.000000 -0.608728 -0.051461   \n",
            "A_M               -0.420261 -0.692619 -0.608728  1.000000 -0.369971   \n",
            "Color              0.844013  0.283564 -0.051461 -0.369971  1.000000   \n",
            "Spectral_Class     0.305307  0.130096 -0.048535 -0.232926  0.575604   \n",
            "Type               0.411129  0.676845  0.660975 -0.955276  0.432355   \n",
            "\n",
            "                Spectral_Class      Type  \n",
            "Temperature           0.305307  0.411129  \n",
            "L                     0.130096  0.676845  \n",
            "R                    -0.048535  0.660975  \n",
            "A_M                  -0.232926 -0.955276  \n",
            "Color                 0.575604  0.432355  \n",
            "Spectral_Class        1.000000  0.347333  \n",
            "Type                  0.347333  1.000000  \n"
          ]
        },
        {
          "output_type": "display_data",
          "data": {
            "text/plain": [
              "<Figure size 432x288 with 1 Axes>"
            ],
            "image/png": "[encoded data removed]"
          },
          "metadata": {
            "needs_background": "light"
          }
        },
        {
          "output_type": "display_data",
          "data": {
            "text/plain": [
              "<Figure size 432x288 with 1 Axes>"
            ],
            "image/png": "[encoded data removed]"
          },
          "metadata": {
            "needs_background": "light"
          }
        },
        {
          "output_type": "display_data",
          "data": {
            "text/plain": [
              "<Figure size 432x288 with 1 Axes>"
            ],
            "image/png": "[encoded data removed]"
          },
          "metadata": {
            "needs_background": "light"
          }
        }
      ]
    },
    {
      "cell_type": "markdown",
      "id": "ba9395df",
      "metadata": {
        "id": "ba9395df"
      },
      "source": [
        "- выгрузка данных\n",
        "- визуализация\n",
        "- взаимодействие между параметрами (корреляция и прочее)\n",
        "- проверка на нормальность\n",
        "- закономерности, \"инсайты\", особенности данных"
      ]
    },
    {
      "cell_type": "markdown",
      "source": [
        "## 7. Выбор метода/алгоритма, модели, архитектуры (для НС)\n",
        "\n",
        "- Выбрать 2 типа модели:\n",
        "\n",
        "    - Одну baseline модель — это может быть `линейная регрессия` (для задачи регрессии), `k-nearest neighbour` для задачи классификации, `k-means` для кластеризации\n",
        "\n",
        "    - Вторую посложнее — для задачи регрессии, random forest, gradient-boosted tree ([XGBoost & CatBoost](https://towardsdatascience.com/catboost-vs-lightgbm-vs-xgboost-c80f40662924)) и другие. Дополнительно для временных рядов: SARIMAX, [Prophet](https://facebook.github.io/prophet/docs/quick_start.html#python-api). Для задачи классификации: logistic regression, decision tree, random forest, gradient-boosted tree ([XGBoost & CatBoost](https://towardsdatascience.com/catboost-vs-lightgbm-vs-xgboost-c80f40662924)), multilayer perceptron и другие.\n",
        "\n",
        "  Если у Вас задачка с изображениями — необходимо выбрать [простую уже обученную ИНС](https://neerc.ifmo.ru/wiki/index.php?title=%D0%A1%D0%B2%D0%B5%D1%80%D1%82%D0%BE%D1%87%D0%BD%D1%8B%D0%B5_%D0%BD%D0%B5%D0%B9%D1%80%D0%BE%D0%BD%D0%BD%D1%8B%D0%B5_%D1%81%D0%B5%D1%82%D0%B8)."
      ],
      "metadata": {
        "id": "lxHOND4CSANI"
      },
      "id": "lxHOND4CSANI"
    },
    {
      "cell_type": "code",
      "source": [
        "from sklearn.model_selection import train_test_split\n",
        "from sklearn.neighbors import KNeighborsClassifier\n",
        "from sklearn.metrics import classification_report\n",
        "from sklearn.metrics import confusion_matrix\n",
        "import numpy as np\n",
        "error_rates = []\n",
        "features = ['Temperature','L','R','A_M','Color','Spectral_Class']\n",
        "\n",
        "x =  dataset[features]\n",
        "y = dataset['Type']\n",
        "x_training_data, x_test_data, y_training_data, y_test_data = train_test_split(x, y, test_size = 0.3)\n",
        "model = KNeighborsClassifier(n_neighbors = 1)\n",
        "model.fit(x_training_data, y_training_data)\n",
        "predictions = model.predict(x_test_data)\n",
        "print(predictions)\n",
        "print(classification_report(y_test_data, predictions))\n",
        "for i in np.arange(1, 101):\n",
        "    new_model = KNeighborsClassifier(n_neighbors = i)\n",
        "    new_model.fit(x_training_data, y_training_data)\n",
        "    new_predictions = new_model.predict(x_test_data)\n",
        "    error_rates.append(np.mean(new_predictions != y_test_data))\n",
        "plt.plot(error_rates)\n"
      ],
      "metadata": {
        "colab": {
          "base_uri": "https://localhost:8080/",
          "height": 543
        },
        "id": "EVIWwqSmYzgJ",
        "outputId": "4697bc19-6927-401b-8988-a932050418f8"
      },
      "id": "EVIWwqSmYzgJ",
      "execution_count": 62,
      "outputs": [
        {
          "output_type": "stream",
          "name": "stdout",
          "text": [
            "[5 3 4 4 1 0 0 2 1 4 0 5 5 0 1 5 1 5 3 5 1 1 2 3 4 2 4 3 1 5 5 5 5 2 3 4 3\n",
            " 1 5 2 3 0 1 2 3 2 5 5 4 5 1 5 3 2 4 1 4 3 0 1 3 3 4 1 0 5 0 0 4 2 4 3]\n",
            "              precision    recall  f1-score   support\n",
            "\n",
            "           0       0.56      0.50      0.53        10\n",
            "           1       0.54      0.64      0.58        11\n",
            "           2       0.67      0.75      0.71         8\n",
            "           3       0.77      0.67      0.71        15\n",
            "           4       0.75      0.64      0.69        14\n",
            "           5       0.69      0.79      0.73        14\n",
            "\n",
            "    accuracy                           0.67        72\n",
            "   macro avg       0.66      0.66      0.66        72\n",
            "weighted avg       0.67      0.67      0.67        72\n",
            "\n"
          ]
        },
        {
          "output_type": "execute_result",
          "data": {
            "text/plain": [
              "[<matplotlib.lines.Line2D at 0x7f08f2d91250>]"
            ]
          },
          "metadata": {},
          "execution_count": 62
        },
        {
          "output_type": "display_data",
          "data": {
            "text/plain": [
              "<Figure size 432x288 with 1 Axes>"
            ],
            "image/png": "[encoded data removed]"
          },
          "metadata": {
            "needs_background": "light"
          }
        }
      ]
    },
    {
      "cell_type": "code",
      "source": [
        "from sklearn import tree\n",
        "from sklearn.tree import DecisionTreeClassifier\n",
        "features = ['Temperature','L','R','A_M','Color','Spectral_Class']\n",
        "\n",
        "x =  dataset[features]\n",
        "y = dataset['Type']\n",
        "X_train, X_test, y_train, y_test = train_test_split(x, y, \n",
        "                                                    train_size=0.7)\n",
        "dtree = DecisionTreeClassifier()\n",
        "dtree = dtree.fit(X_train, y_train)\n",
        "predictions = dtree.predict(X_test)\n",
        "print(type(X_test))\n",
        "print(predictions)\n",
        "print(classification_report(y_test, predictions))\n",
        "tree.plot_tree(dtree,feature_names=features)"
      ],
      "metadata": {
        "colab": {
          "base_uri": "https://localhost:8080/",
          "height": 716
        },
        "id": "Ce06MqePd-bB",
        "outputId": "3fe9cd14-6e96-455b-e805-6a5465b92ce5"
      },
      "id": "Ce06MqePd-bB",
      "execution_count": 63,
      "outputs": [
        {
          "output_type": "stream",
          "name": "stdout",
          "text": [
            "<class 'pandas.core.frame.DataFrame'>\n",
            "[3 3 3 1 1 0 4 5 0 2 3 0 0 2 2 3 3 4 3 1 4 0 0 0 4 5 0 2 2 4 0 4 5 5 4 3 0\n",
            " 5 2 5 0 1 3 5 5 2 1 3 3 0 2 5 2 4 3 0 4 1 0 0 1 5 3 1 0 0 1 1 0 3 4 2]\n",
            "              precision    recall  f1-score   support\n",
            "\n",
            "           0       1.00      1.00      1.00        18\n",
            "           1       1.00      1.00      1.00        10\n",
            "           2       1.00      1.00      1.00        10\n",
            "           3       1.00      1.00      1.00        14\n",
            "           4       1.00      1.00      1.00        10\n",
            "           5       1.00      1.00      1.00        10\n",
            "\n",
            "    accuracy                           1.00        72\n",
            "   macro avg       1.00      1.00      1.00        72\n",
            "weighted avg       1.00      1.00      1.00        72\n",
            "\n"
          ]
        },
        {
          "output_type": "execute_result",
          "data": {
            "text/plain": [
              "[Text(0.5714285714285714, 0.9166666666666666, 'R <= 0.046\\ngini = 0.831\\nsamples = 168\\nvalue = [22, 30, 30, 26, 30, 30]'),\n",
              " Text(0.42857142857142855, 0.75, 'gini = 0.0\\nsamples = 30\\nvalue = [0, 0, 30, 0, 0, 0]'),\n",
              " Text(0.7142857142857143, 0.75, 'R <= 403.45\\ngini = 0.797\\nsamples = 138\\nvalue = [22, 30, 0, 26, 30, 30]'),\n",
              " Text(0.5714285714285714, 0.5833333333333334, 'R <= 11.1\\ngini = 0.746\\nsamples = 108\\nvalue = [22, 30, 0, 26, 30, 0]'),\n",
              " Text(0.42857142857142855, 0.4166666666666667, 'Color <= 1.5\\ngini = 0.661\\nsamples = 78\\nvalue = [22, 30, 0, 26, 0, 0]'),\n",
              " Text(0.2857142857142857, 0.25, 'A_M <= 15.53\\ngini = 0.488\\nsamples = 52\\nvalue = [22, 30, 0, 0, 0, 0]'),\n",
              " Text(0.14285714285714285, 0.08333333333333333, 'gini = 0.0\\nsamples = 30\\nvalue = [0, 30, 0, 0, 0, 0]'),\n",
              " Text(0.42857142857142855, 0.08333333333333333, 'gini = 0.0\\nsamples = 22\\nvalue = [22, 0, 0, 0, 0, 0]'),\n",
              " Text(0.5714285714285714, 0.25, 'gini = 0.0\\nsamples = 26\\nvalue = [0, 0, 0, 26, 0, 0]'),\n",
              " Text(0.7142857142857143, 0.4166666666666667, 'gini = 0.0\\nsamples = 30\\nvalue = [0, 0, 0, 0, 30, 0]'),\n",
              " Text(0.8571428571428571, 0.5833333333333334, 'gini = 0.0\\nsamples = 30\\nvalue = [0, 0, 0, 0, 0, 30]')]"
            ]
          },
          "metadata": {},
          "execution_count": 63
        },
        {
          "output_type": "display_data",
          "data": {
            "text/plain": [
              "<Figure size 432x288 with 1 Axes>"
            ],
            "image/png": "[encoded data removed]"
          },
          "metadata": {
            "needs_background": "light"
          }
        }
      ]
    },
    {
      "cell_type": "code",
      "source": [
        "from sklearn.metrics import mean_squared_error\n",
        "from sklearn.metrics import mean_absolute_error\n",
        "y_pred = model.predict(X_test)\n",
        "mse = mean_squared_error(y_test, y_pred)\n",
        "print('mse: %.3f' % (mse))\n",
        "import math\n",
        "print(\"mse^(1/2) = \", math.sqrt(mse))"
      ],
      "metadata": {
        "colab": {
          "base_uri": "https://localhost:8080/"
        },
        "id": "wymr74Skiwwy",
        "outputId": "d5ad5c86-6578-407f-e81c-3af332ac93e8"
      },
      "id": "wymr74Skiwwy",
      "execution_count": 64,
      "outputs": [
        {
          "output_type": "stream",
          "name": "stdout",
          "text": [
            "mse: 0.069\n",
            "mse^(1/2) =  0.26352313834736496\n"
          ]
        }
      ]
    },
    {
      "cell_type": "code",
      "source": [
        "print(\"Введите  Temperature L  R  A_M  Color  Spectral_Class\")\n",
        "f_list = {'Temperature':[],'L' : [],'R' : [], 'A_M': [], 'Color': [], 'Spectral_Class': [] }\n",
        "f_list['Temperature'].append(float(input()))\n",
        "f_list['L'].append(float(input()))\n",
        "f_list['R'].append(float(input()))\n",
        "f_list['A_M'].append(float(input()))\n",
        "f_list['Color'].append(float(input()))\n",
        "f_list['Spectral_Class'].append(float(input()))\n",
        "print(f_list)\n",
        "data = pd.DataFrame(f_list)\n",
        "prediction = dtree.predict(data)\n",
        "print(\"Предсказание типа звезды по дереву решений:\",prediction)\n",
        "prediction = model.predict(data)\n",
        "print(\"Предсказание типа звезды по методу k ближайших соседей\",prediction)\n"
      ],
      "metadata": {
        "colab": {
          "base_uri": "https://localhost:8080/"
        },
        "id": "PKcS3X6bjlsb",
        "outputId": "efe67e2e-b6ee-4312-a5b1-a1309cf6fa73"
      },
      "id": "PKcS3X6bjlsb",
      "execution_count": 92,
      "outputs": [
        {
          "output_type": "stream",
          "name": "stdout",
          "text": [
            "Введите  Temperature L  R  A_M  Color  Spectral_Class\n",
            "1939\n",
            "0.000138\n",
            "0.103\n",
            "20.06\n",
            "1\n",
            "0\n",
            "{'Temperature': [1939.0], 'L': [0.000138], 'R': [0.103], 'A_M': [20.06], 'Color': [1.0], 'Spectral_Class': [0.0]}\n",
            "Предсказание типа звезды по дереву решений: [0]\n",
            "Предсказание типа звезды по методу k ближайших соседей [0]\n"
          ]
        }
      ]
    },
    {
      "cell_type": "markdown",
      "source": [
        "## 8. Настройка гиперпараметров (для НС), выбор параметров метода/алгоритма\n",
        "\n",
        "- Самый естественный способ организовать подбор гиперпараметров — сделать перебор по сетке (`Grid Search`):\n",
        "\n",
        "  - для каждого гиперпараметра фиксируется несколько значений;\n",
        "  - перебираются все комбинации значений различных гиперпараметров, на каждой из этих комбинаций модель обучается и тестируется;\n",
        "  - выбирается комбинация, на которой модель показывает лучшее качество;\n",
        "  - есть много библиотечных функций для [Grid Search](https://pythonpip.ru/osnovy/poisk-po-setke-python), например [тут](https://scikit-learn.org/stable/modules/generated/sklearn.model_selection.GridSearchCV.html);"
      ],
      "metadata": {
        "id": "FIkfLnalX3hy"
      },
      "id": "FIkfLnalX3hy"
    },
    {
      "cell_type": "markdown",
      "source": [
        "## 9. Выбор метрики оценки качества (RMSE, R^2)\n",
        "\n",
        "- Выбрать метрики (обосновать выбор).\n",
        "\n",
        "Важно внимательно подходить к выбору метрики: в случае с несбалансированными классами классификатор может все объекты записать в класс, который представлен большим количеством объектов, а такая метрика как accuracy (доля объектов, для которых мы правильно предсказали класс для задачи классификации) будет все такой же высокой.\n",
        "\n",
        "Для регрессии (MSE, RMSE, MAE, R^2 и другие). Используйте RMSE, если хотите, чтобы большие ошибки были более значительными.\n",
        "Более подробно [по ссылке](https://ml-handbook.ru/chapters/model_evaluation/intro).\n",
        "\n",
        "\n",
        "Задачи с кластеризацией (рекомендательные системы) сложнее проверить экспериментально. Один из способов сделать это — взять часть ваших данных и спрятать их. Когда ваша модель построена, используйте её, чтобы предсказать рекомендации для скрытых данных и посмотреть, как они выстраиваются. (добавлю позже ссылку).\n",
        "\n",
        "- Определить какое значение будет успешным для вашей задачи."
      ],
      "metadata": {
        "id": "JZ9cDq6wX6sa"
      },
      "id": "JZ9cDq6wX6sa"
    },
    {
      "cell_type": "markdown",
      "source": [
        "## 10. Генерация наборов для обучения, тестирования и валидации\n",
        "\n",
        "- Разделение выборки на обучающую и тестовую (70/30 или 80/20).\n",
        "    - Отложить тестовую выборку до финального теста\n",
        "    - Валидационная часть может быть выделена автоматически при кросс-валидации\n",
        "\n",
        "\n",
        "- Провести кросс-валидацию. Кросс-валидация может быть нужна в случаях, если данных мало или мы не хотим зависеть от конкретного выбора валидационного множества. \n",
        "\n",
        "   - Например, можно использовать метод `k-Fold`\n",
        "\n",
        "  - Кросс-валидация для временных рядов посложнее, так как данные не должны пересекаться по времени: тренировочные данные должны идти до валидационных, а валидационные — до тестовых"
      ],
      "metadata": {
        "id": "RbtxGcQvX8Ey"
      },
      "id": "RbtxGcQvX8Ey"
    },
    {
      "cell_type": "markdown",
      "source": [
        "## 11. Развертывание и работа модели, визуализация результатов\n",
        "\n",
        "После того, как выбраны лучшие гиперпараметры модели, необходимо обучить модель на данных параметрах и протестировать на тестовой выборке."
      ],
      "metadata": {
        "id": "VgxHtJo0X9Ki"
      },
      "id": "VgxHtJo0X9Ki"
    },
    {
      "cell_type": "markdown",
      "source": [
        "## 12. Выводы"
      ],
      "metadata": {
        "id": "GErABncWSV-B"
      },
      "id": "GErABncWSV-B"
    },
    {
      "cell_type": "markdown",
      "source": [
        "Предупреждая возможный холивар — структура данного фреймворка не истина в \n",
        "последней инстанции, есть много других способов структурировать свои \n",
        "пайплайны — это всего лишь один из них."
      ],
      "metadata": {
        "id": "N-Nx-I_i2CyZ"
      },
      "id": "N-Nx-I_i2CyZ"
    },
    {
      "cell_type": "markdown",
      "source": [
        "- EDA (exploratory data analysis). Тут надо сделать замечание — на Kaggle есть специально обученные люди :), которые в каждом соревновании пилят сногсшибательные EDA кернелы. Переплюнуть их у вас вряд-ли получится, но понимать, как можно смотреть на данные все-равно придется, поскольку в боевых задачах этим специально обученным человеком будете вы. Поэтому изучаем подходы, расширяем наши библиотеки.\n",
        "- Data Cleaning — все, что касается очистки данных. Выбросы, пропуски, и т.д.\n",
        "- Data preparation — все, что касается подготовки данных для модели. Несколько блоков:\n",
        "  - Общий\n",
        "  - Для регрессий/нейронных сетей\n",
        "  - Для деревьев\n",
        "  - Специальный (временные ряды, картинки, FM/FFM)\n",
        "  - Текст (Vectorizers, TF-IDF, Embeddings)\n",
        "- Models\n",
        "  - Linear models\n",
        "  - Tree models\n",
        "  - Neural Networks\n",
        "  - Exotic (FM/FFM)\n",
        "- Feature selection\n",
        "- Hyperparameters search\n",
        "- Ensemble"
      ],
      "metadata": {
        "id": "_77lSlpX2as2"
      },
      "id": "_77lSlpX2as2"
    }
  ],
  "metadata": {
    "kernelspec": {
      "display_name": "Python 3 (ipykernel)",
      "language": "python",
      "name": "python3"
    },
    "language_info": {
      "codemirror_mode": {
        "name": "ipython",
        "version": 3
      },
      "file_extension": ".py",
      "mimetype": "text/x-python",
      "name": "python",
      "nbconvert_exporter": "python",
      "pygments_lexer": "ipython3",
      "version": "3.8.10"
    },
    "toc": {
      "base_numbering": 1,
      "nav_menu": {},
      "number_sections": true,
      "sideBar": true,
      "skip_h1_title": false,
      "title_cell": "Table of Contents",
      "title_sidebar": "Contents",
      "toc_cell": false,
      "toc_position": {},
      "toc_section_display": true,
      "toc_window_display": true
    },
    "colab": {
      "provenance": [],
      "collapsed_sections": [
        "51f24c93",
        "57b965b9",
        "GErABncWSV-B"
      ]
    }
  },
  "nbformat": 4,
  "nbformat_minor": 5
}